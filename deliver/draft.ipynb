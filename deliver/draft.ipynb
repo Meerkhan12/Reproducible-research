{
 "cells": [
  {
   "cell_type": "markdown",
   "metadata": {},
   "source": [
    "# A Novel Queue Management Scheme for Programmable Data Planes using P4\n",
    "\n",
    "## Abstract\n",
    "For supporting different applications requirments the network programmability brings flexibility, agility and rapid introduction of new capabilities. Siginificant benefits like Quality of Service QoS can be acheived by using programmable traffic management at data plane. To acheive the QoS in Term of minimum queuing delay we used the P4 which is a domain specific language for programming network switches. we implement our scheme by manipulationg the bits at data plane and we can see in results that our proposed scheme is better in term of less less queuing delay.\n",
    "\n",
    "## 1 INTRODUCTION\n",
    "Centralization of the network’s intelligence in Software Defined Networking (SDN) is an advantage for applications that do not have strict real-time requirements and depend on global network state. However, when the service uses local state information, e.g., to support QoS, the same level of flexibility must be supported at the data plane. Making stateful data plane algorithms programmable, complementing existing programmable forwarding plane solutions, can be beneficial in terms of meeting QoS requirements, reduce the control load on the SDN controller(s) and network overhead, and enhance network flexibility by enabling customized traffic management. Programmable data plane solutions such as P4 and supported architectures, provide an excellent way to define the packet forwarding behavior of network devices. However, most programmable devices still typically have non-programmable traffic managers. \n",
    "\n",
    "## 2 BACKGROUND\n",
    "P4 is a declarative language for programming protocol-independent packet processors, with constructs optimized for packet forwarding functions. Using P4, developers can program data plane packet pipelines, on a variety of targets (e.g., ASICs, FPGAs etc.) based on a match/action architecture. While the P4 language is targetindependent, a P4 compiler translates P4 programs into the instruction set of the hardware of the packet processor. The current specification of the language (P4_16), introduced the concept of the P4 architecture that defines the P4-programmable blocks of a target and their data plane interfaces. The standard P4_16 architecture called Portable Switch Architecture (PSA) was published in November 2018. We use the open source software switch BMV2, since it constitutes the reference software implementation of the PSA. However, at the moment only a partial implementation is available. Therefore we adopt the v1model, a description written in P4_16 of the old fixed architecture implied by P4_14, as it is fully supported by BMV2.\n",
    "\n",
    "## 3 SYSTEM DESIGN\n",
    "The BMV2 switch buffers packets between the ingress and egress pipeline using an egress queue per port. Using the v1model architecture, a P4 program can access in the egress pipeline the queuing delay for a packet and related queuing information, as part of the standard packet metadata. (This part contaion our basic system design and in final I will add some diagrams to give the overview of system design)\n",
    "\n",
    "## 4 Results\n",
    "In this section we illustrate the functionality of our P4- programmable scheme using some simple test cases. Some simulation based test will be run and graph obtained from the result data will be shown here to compare our results with existing scheme. We will used mininet simulator to run our simulation and then we will collect the results from the simulation. \n",
    "\n",
    "## 5  Conclusion and FUTURE WOrk\n",
    "\n",
    "This section contaions the conclusion of this paper. Later on we will propose a future work.\n",
    "\n",
    "## ACKNOWLEDGMENTS\n",
    "\n",
    "## REFERENCES"
   ]
  },
  {
   "cell_type": "code",
   "execution_count": null,
   "metadata": {},
   "outputs": [],
   "source": []
  }
 ],
 "metadata": {
  "kernelspec": {
   "display_name": "Python 3",
   "language": "python",
   "name": "python3"
  },
  "language_info": {
   "codemirror_mode": {
    "name": "ipython",
    "version": 3
   },
   "file_extension": ".py",
   "mimetype": "text/x-python",
   "name": "python",
   "nbconvert_exporter": "python",
   "pygments_lexer": "ipython3",
   "version": "3.7.6"
  }
 },
 "nbformat": 4,
 "nbformat_minor": 4
}
